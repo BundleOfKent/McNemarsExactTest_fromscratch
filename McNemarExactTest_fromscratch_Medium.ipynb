{
 "cells": [
  {
   "cell_type": "markdown",
   "metadata": {},
   "source": [
    "# McNemar's exact test from scratch"
   ]
  },
  {
   "cell_type": "code",
   "execution_count": 1,
   "metadata": {},
   "outputs": [],
   "source": [
    "import numpy as np # import libraries\n",
    "from statsmodels.stats import contingency_tables\n",
    "import pandas as pd\n",
    "from scipy.stats import binom"
   ]
  },
  {
   "cell_type": "code",
   "execution_count": 2,
   "metadata": {},
   "outputs": [
    {
     "data": {
      "text/html": [
       "<div>\n",
       "<style scoped>\n",
       "    .dataframe tbody tr th:only-of-type {\n",
       "        vertical-align: middle;\n",
       "    }\n",
       "\n",
       "    .dataframe tbody tr th {\n",
       "        vertical-align: top;\n",
       "    }\n",
       "\n",
       "    .dataframe thead th {\n",
       "        text-align: right;\n",
       "    }\n",
       "</style>\n",
       "<table border=\"1\" class=\"dataframe\">\n",
       "  <thead>\n",
       "    <tr style=\"text-align: right;\">\n",
       "      <th></th>\n",
       "      <th>RT-LAMP positive</th>\n",
       "      <th>RT-LAMP negative</th>\n",
       "    </tr>\n",
       "  </thead>\n",
       "  <tbody>\n",
       "    <tr>\n",
       "      <th>RT-PCR positive</th>\n",
       "      <td>40.0</td>\n",
       "      <td>6.0</td>\n",
       "    </tr>\n",
       "    <tr>\n",
       "      <th>RT-PCR negative</th>\n",
       "      <td>2.0</td>\n",
       "      <td>11.0</td>\n",
       "    </tr>\n",
       "  </tbody>\n",
       "</table>\n",
       "</div>"
      ],
      "text/plain": [
       "                 RT-LAMP positive  RT-LAMP negative\n",
       "RT-PCR positive              40.0               6.0\n",
       "RT-PCR negative               2.0              11.0"
      ]
     },
     "execution_count": 2,
     "metadata": {},
     "output_type": "execute_result"
    }
   ],
   "source": [
    "ar=np.array([[40.0, 6.0],[2.0, 11.0]])    # Create DataFrame by passing a numpy array with our data. \n",
    "ct=pd.DataFrame(ar, columns=[\"RT-LAMP positive\", \"RT-LAMP negative\"])\n",
    "ct.index=[\"RT-PCR positive\", \"RT-PCR negative\"] \n",
    "ct"
   ]
  },
  {
   "cell_type": "code",
   "execution_count": 3,
   "metadata": {},
   "outputs": [
    {
     "data": {
      "text/plain": [
       "[0.10937500000000006,\n",
       " 0.10937500000000006,\n",
       " 0.031250000000000014,\n",
       " 0.031250000000000014,\n",
       " 0.003906250000000001,\n",
       " 0.003906250000000001]"
      ]
     },
     "execution_count": 3,
     "metadata": {},
     "output_type": "execute_result"
    }
   ],
   "source": [
    "alist = []    # create list where binomial probabilites will be added to after each loop.\n",
    "\n",
    "c= ct.iloc[1,0] # get cell counts of discordant pairs\n",
    "b= ct.iloc[0,1]\n",
    "N=ct.iloc[0,1]+ ct.iloc[1,0] # ... and their sum.\n",
    "\n",
    "\n",
    "# the way we set up our while-loop makes it necessary to loop over the larger of the two counts b and c! \n",
    "if b>=c:   # ... otherwise we would not calculate tail probabilites in this setting!     \n",
    "    while b<=N:\n",
    "        P1= binom.pmf(b, N, 0.5, loc=0) # binomial probability\n",
    "        alist.append(P1) # append values to list\n",
    "\n",
    "        P2= binom.pmf(N-b, N, 0.5, loc=0) # calculate binomial probability for the other \"tail\" within the same loop.\n",
    "        #( The calculation could be done more elegantly since P1=P2 by the way ...) \n",
    "        alist.append(P2)\n",
    "\n",
    "        b=b+1 # increase b with every loop to calculate probabilites for the \"even more extreme\" outcomes...\n",
    "        #... until it reaches the total number of discordant pairs N. \n",
    "    \n",
    "else:\n",
    "    while c<=N: # If c>b, we would use the following: \n",
    "        P1= binom.pmf(c, N, 0.5, loc=0)\n",
    "        alist.append(P1)\n",
    "\n",
    "        P2= binom.pmf(N-c, N, 0.5, loc=0)\n",
    "        alist.append(P2)\n",
    "\n",
    "        c=c+1\n",
    "\n",
    "alist"
   ]
  },
  {
   "cell_type": "code",
   "execution_count": 4,
   "metadata": {},
   "outputs": [
    {
     "data": {
      "text/plain": [
       "0.2890625000000001"
      ]
     },
     "execution_count": 4,
     "metadata": {},
     "output_type": "execute_result"
    }
   ],
   "source": [
    "np.sum(alist) # the sum of all calculated, binomial probabilites corresponds to our p-value. "
   ]
  },
  {
   "cell_type": "code",
   "execution_count": 5,
   "metadata": {},
   "outputs": [
    {
     "data": {
      "text/plain": [
       "0.2890624999999999"
      ]
     },
     "execution_count": 5,
     "metadata": {},
     "output_type": "execute_result"
    }
   ],
   "source": [
    "contingency_tables.mcnemar(ar,exact=True).pvalue  # We choose exact=True, because we want to apply \n",
    "# the exact version of McNemar's test. "
   ]
  }
 ],
 "metadata": {
  "kernelspec": {
   "display_name": "Python 3",
   "language": "python",
   "name": "python3"
  },
  "language_info": {
   "codemirror_mode": {
    "name": "ipython",
    "version": 3
   },
   "file_extension": ".py",
   "mimetype": "text/x-python",
   "name": "python",
   "nbconvert_exporter": "python",
   "pygments_lexer": "ipython3",
   "version": "3.7.3"
  }
 },
 "nbformat": 4,
 "nbformat_minor": 2
}
